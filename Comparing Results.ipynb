{
 "cells": [
  {
   "cell_type": "markdown",
   "id": "90d79161",
   "metadata": {},
   "source": [
    "### Initialization process"
   ]
  },
  {
   "cell_type": "code",
   "execution_count": 62,
   "id": "c4f7e22e",
   "metadata": {},
   "outputs": [],
   "source": [
    "from sqlite3 import connect\n",
    "from pandas import DataFrame, Timedelta, concat, Series\n",
    "from ccxt import binance\n",
    "from datetime import datetime\n",
    "from collections import defaultdict"
   ]
  },
  {
   "cell_type": "code",
   "execution_count": 2,
   "id": "6df33870",
   "metadata": {},
   "outputs": [],
   "source": [
    "conn = connect(\".\\cryptobot9.db\")\n",
    "cursor = conn.cursor()"
   ]
  },
  {
   "cell_type": "markdown",
   "id": "fd91629f",
   "metadata": {},
   "source": [
    "### Data preparation"
   ]
  },
  {
   "cell_type": "code",
   "execution_count": 3,
   "id": "02cc4a20",
   "metadata": {},
   "outputs": [],
   "source": [
    "ans = cursor.execute(\"SELECT * FROM indexes\")\n",
    "rows = ans.fetchall()"
   ]
  },
  {
   "cell_type": "markdown",
   "id": "e1065fc8",
   "metadata": {},
   "source": [
    "tweet_id, user_id, sentments, sent_score, favorited, retweets, created_at, text, hashtags, mentions, urls, type, retweet"
   ]
  },
  {
   "cell_type": "code",
   "execution_count": 4,
   "id": "cc705e1c",
   "metadata": {},
   "outputs": [],
   "source": [
    "df = DataFrame(rows, columns=[\"index_id\", \"forecast\", \"cryptocurrency\", \"timestamp\"])"
   ]
  },
  {
   "cell_type": "code",
   "execution_count": 5,
   "id": "20089f71",
   "metadata": {},
   "outputs": [],
   "source": [
    "df.sort_values(by=\"timestamp\", inplace=True)"
   ]
  },
  {
   "cell_type": "code",
   "execution_count": 6,
   "id": "240ac573",
   "metadata": {},
   "outputs": [],
   "source": [
    "df_btc = df.loc[df[\"cryptocurrency\"] == \"bitcoin\"]\n",
    "df_eth = df.loc[df[\"cryptocurrency\"] == \"ethereum\"]\n",
    "df_bnb = df.loc[df[\"cryptocurrency\"] == \"binance coin\"]"
   ]
  },
  {
   "cell_type": "code",
   "execution_count": 7,
   "id": "c40f6a6d",
   "metadata": {},
   "outputs": [],
   "source": [
    "binance_btc = binance().fetchOHLCV(\"BTCUSDT\", timeframe = \"1h\")\n",
    "binance_eth = binance().fetchOHLCV(\"ETHUSDT\", timeframe = \"1h\")\n",
    "binance_bnb = binance().fetchOHLCV(\"BNBUSDT\", timeframe = \"1h\")"
   ]
  },
  {
   "cell_type": "code",
   "execution_count": 8,
   "id": "64e37c4e",
   "metadata": {},
   "outputs": [
    {
     "name": "stderr",
     "output_type": "stream",
     "text": [
      "/tmp/ipykernel_10202/287363170.py:1: SettingWithCopyWarning: \n",
      "A value is trying to be set on a copy of a slice from a DataFrame.\n",
      "Try using .loc[row_indexer,col_indexer] = value instead\n",
      "\n",
      "See the caveats in the documentation: https://pandas.pydata.org/pandas-docs/stable/user_guide/indexing.html#returning-a-view-versus-a-copy\n",
      "  df_btc[\"datetime\"] = df_btc[\"timestamp\"].apply(lambda x: datetime.fromtimestamp(int(x)).replace(minute=0, second=0))\n",
      "/tmp/ipykernel_10202/287363170.py:2: SettingWithCopyWarning: \n",
      "A value is trying to be set on a copy of a slice from a DataFrame.\n",
      "Try using .loc[row_indexer,col_indexer] = value instead\n",
      "\n",
      "See the caveats in the documentation: https://pandas.pydata.org/pandas-docs/stable/user_guide/indexing.html#returning-a-view-versus-a-copy\n",
      "  df_eth[\"datetime\"] = df_eth[\"timestamp\"].apply(lambda x: datetime.fromtimestamp(int(x)).replace(minute=0, second=0))\n",
      "/tmp/ipykernel_10202/287363170.py:3: SettingWithCopyWarning: \n",
      "A value is trying to be set on a copy of a slice from a DataFrame.\n",
      "Try using .loc[row_indexer,col_indexer] = value instead\n",
      "\n",
      "See the caveats in the documentation: https://pandas.pydata.org/pandas-docs/stable/user_guide/indexing.html#returning-a-view-versus-a-copy\n",
      "  df_bnb[\"datetime\"] = df_bnb[\"timestamp\"].apply(lambda x: datetime.fromtimestamp(int(x)).replace(minute=0, second=0))\n"
     ]
    }
   ],
   "source": [
    "df_btc[\"datetime\"] = df_btc[\"timestamp\"].apply(lambda x: datetime.fromtimestamp(int(x)).replace(minute=0, second=0))\n",
    "df_eth[\"datetime\"] = df_eth[\"timestamp\"].apply(lambda x: datetime.fromtimestamp(int(x)).replace(minute=0, second=0))\n",
    "df_bnb[\"datetime\"] = df_bnb[\"timestamp\"].apply(lambda x: datetime.fromtimestamp(int(x)).replace(minute=0, second=0))"
   ]
  },
  {
   "cell_type": "code",
   "execution_count": 9,
   "id": "63bae9cc",
   "metadata": {},
   "outputs": [],
   "source": [
    "bin_df_btc = DataFrame(binance_btc, columns=[\"timestamp\", \"open\", \"high\", \"low\", \"close\", \"volume\"])\n",
    "bin_df_btc[\"datetime\"] = bin_df_btc[\"timestamp\"].apply(lambda x: datetime.fromtimestamp(x/1000))\n",
    "bin_df_eth = DataFrame(binance_eth, columns=[\"timestamp\", \"open\", \"high\", \"low\", \"close\", \"volume\"])\n",
    "bin_df_eth[\"datetime\"] = bin_df_eth[\"timestamp\"].apply(lambda x: datetime.fromtimestamp(x/1000))\n",
    "bin_df_bnb = DataFrame(binance_bnb, columns=[\"timestamp\", \"open\", \"high\", \"low\", \"close\", \"volume\"])\n",
    "bin_df_bnb[\"datetime\"] = bin_df_bnb[\"timestamp\"].apply(lambda x: datetime.fromtimestamp(x/1000))"
   ]
  },
  {
   "cell_type": "markdown",
   "id": "76066462",
   "metadata": {},
   "source": [
    "### Dataframe Bitcoin per time distance"
   ]
  },
  {
   "cell_type": "code",
   "execution_count": 10,
   "id": "0c638a2c",
   "metadata": {},
   "outputs": [],
   "source": [
    "df_btc_now = df_btc.groupby(by=\"datetime\")[\"forecast\"].mean().reset_index()\n",
    "df_btc_1h = df_btc.groupby(by=\"datetime\")[\"forecast\"].mean().reset_index()\n",
    "df_btc_1h[\"datetime\"] += Timedelta(1, unit=\"H\")\n",
    "df_btc_2h = df_btc.groupby(by=\"datetime\")[\"forecast\"].mean().reset_index()\n",
    "df_btc_2h[\"datetime\"] += Timedelta(2, unit=\"H\")\n",
    "df_btc_3h = df_btc.groupby(by=\"datetime\")[\"forecast\"].mean().reset_index()\n",
    "df_btc_3h[\"datetime\"] += Timedelta(3, unit=\"H\")\n",
    "df_btc_6h = df_btc.groupby(by=\"datetime\")[\"forecast\"].mean().reset_index()\n",
    "df_btc_6h[\"datetime\"] += Timedelta(6, unit=\"H\")\n",
    "df_btc_12h = df_btc.groupby(by=\"datetime\")[\"forecast\"].mean().reset_index()\n",
    "df_btc_12h[\"datetime\"] += Timedelta(12, unit=\"H\")\n",
    "df_btc_24h = df_btc.groupby(by=\"datetime\")[\"forecast\"].mean().reset_index()\n",
    "df_btc_24h[\"datetime\"] += Timedelta(1, unit=\"D\")\n",
    "df_btc_48h = df_btc.groupby(by=\"datetime\")[\"forecast\"].mean().reset_index()\n",
    "df_btc_48h[\"datetime\"] += Timedelta(2, unit=\"D\")"
   ]
  },
  {
   "cell_type": "code",
   "execution_count": 12,
   "id": "c3dc9c1f",
   "metadata": {},
   "outputs": [
    {
     "name": "stderr",
     "output_type": "stream",
     "text": [
      "/tmp/ipykernel_10202/4000265616.py:7: FutureWarning: The default dtype for empty Series will be 'object' instead of 'float64' in a future version. Specify a dtype explicitly to silence this warning.\n",
      "  df_btc_12h[\"open\"] = concat([Series([0]*(len(df_btc_12h)-len(temp_df))), temp_df]).values\n"
     ]
    }
   ],
   "source": [
    "df_btc_now[\"open\"] = bin_df_btc.loc[bin_df_btc[\"datetime\"].isin(df_btc_now[\"datetime\"])][\"open\"].values\n",
    "df_btc_1h[\"open\"] = bin_df_btc.loc[bin_df_btc[\"datetime\"].isin(df_btc_1h[\"datetime\"])][\"open\"].values\n",
    "df_btc_2h[\"open\"] = bin_df_btc.loc[bin_df_btc[\"datetime\"].isin(df_btc_2h[\"datetime\"])][\"open\"].values\n",
    "df_btc_3h[\"open\"] = bin_df_btc.loc[bin_df_btc[\"datetime\"].isin(df_btc_3h[\"datetime\"])][\"open\"].values\n",
    "df_btc_6h[\"open\"] = bin_df_btc.loc[bin_df_btc[\"datetime\"].isin(df_btc_6h[\"datetime\"])][\"open\"].values\n",
    "temp_df = bin_df_btc.loc[bin_df_btc[\"datetime\"].isin(df_btc_12h[\"datetime\"])][\"open\"]\n",
    "df_btc_12h[\"open\"] = concat([Series([0]*(len(df_btc_12h)-len(temp_df))), temp_df]).values\n",
    "temp_df = bin_df_btc.loc[bin_df_btc[\"datetime\"].isin(df_btc_24h[\"datetime\"])][\"open\"]\n",
    "df_btc_24h[\"open\"] = concat([Series([0]*(len(df_btc_24h)-len(temp_df))), temp_df]).values\n",
    "temp_df = bin_df_btc.loc[bin_df_btc[\"datetime\"].isin(df_btc_48h[\"datetime\"])][\"open\"]\n",
    "df_btc_48h[\"open\"] = concat([Series([0]*(len(df_btc_48h)-len(temp_df))), temp_df]).values"
   ]
  },
  {
   "cell_type": "markdown",
   "id": "a6b30af2",
   "metadata": {},
   "source": [
    "### Dataframe Ethereum per time distance"
   ]
  },
  {
   "cell_type": "code",
   "execution_count": 13,
   "id": "bf74e1a3",
   "metadata": {},
   "outputs": [],
   "source": [
    "df_eth_now = df_eth.groupby(by=\"datetime\")[\"forecast\"].mean().reset_index()\n",
    "df_eth_1h = df_eth.groupby(by=\"datetime\")[\"forecast\"].mean().reset_index()\n",
    "df_eth_1h[\"datetime\"] += Timedelta(1, unit=\"H\")\n",
    "df_eth_2h = df_eth.groupby(by=\"datetime\")[\"forecast\"].mean().reset_index()\n",
    "df_eth_2h[\"datetime\"] += Timedelta(2, unit=\"H\")\n",
    "df_eth_3h = df_eth.groupby(by=\"datetime\")[\"forecast\"].mean().reset_index()\n",
    "df_eth_3h[\"datetime\"] += Timedelta(3, unit=\"H\")\n",
    "df_eth_6h = df_eth.groupby(by=\"datetime\")[\"forecast\"].mean().reset_index()\n",
    "df_eth_6h[\"datetime\"] += Timedelta(6, unit=\"H\")\n",
    "df_eth_12h = df_eth.groupby(by=\"datetime\")[\"forecast\"].mean().reset_index()\n",
    "df_eth_12h[\"datetime\"] += Timedelta(12, unit=\"H\")\n",
    "df_eth_24h = df_eth.groupby(by=\"datetime\")[\"forecast\"].mean().reset_index()\n",
    "df_eth_24h[\"datetime\"] += Timedelta(1, unit=\"D\")\n",
    "df_eth_48h = df_eth.groupby(by=\"datetime\")[\"forecast\"].mean().reset_index()\n",
    "df_eth_48h[\"datetime\"] += Timedelta(2, unit=\"D\")"
   ]
  },
  {
   "cell_type": "code",
   "execution_count": 14,
   "id": "403d6a1a",
   "metadata": {},
   "outputs": [
    {
     "name": "stderr",
     "output_type": "stream",
     "text": [
      "/tmp/ipykernel_10202/2258726641.py:7: FutureWarning: The default dtype for empty Series will be 'object' instead of 'float64' in a future version. Specify a dtype explicitly to silence this warning.\n",
      "  df_eth_12h[\"open\"] = concat([Series([0]*(len(df_eth_12h)-len(temp_df))), temp_df]).values\n"
     ]
    }
   ],
   "source": [
    "df_eth_now[\"open\"] = bin_df_eth.loc[bin_df_eth[\"datetime\"].isin(df_eth_now[\"datetime\"])][\"open\"].values\n",
    "df_eth_1h[\"open\"] = bin_df_eth.loc[bin_df_eth[\"datetime\"].isin(df_eth_1h[\"datetime\"])][\"open\"].values\n",
    "df_eth_2h[\"open\"] = bin_df_eth.loc[bin_df_eth[\"datetime\"].isin(df_eth_2h[\"datetime\"])][\"open\"].values\n",
    "df_eth_3h[\"open\"] = bin_df_eth.loc[bin_df_eth[\"datetime\"].isin(df_eth_3h[\"datetime\"])][\"open\"].values\n",
    "df_eth_6h[\"open\"] = bin_df_eth.loc[bin_df_eth[\"datetime\"].isin(df_eth_6h[\"datetime\"])][\"open\"].values\n",
    "temp_df = bin_df_eth.loc[bin_df_eth[\"datetime\"].isin(df_eth_12h[\"datetime\"])][\"open\"]\n",
    "df_eth_12h[\"open\"] = concat([Series([0]*(len(df_eth_12h)-len(temp_df))), temp_df]).values\n",
    "temp_df = bin_df_eth.loc[bin_df_eth[\"datetime\"].isin(df_eth_24h[\"datetime\"])][\"open\"]\n",
    "df_eth_24h[\"open\"] = concat([Series([0]*(len(df_eth_24h)-len(temp_df))), temp_df]).values\n",
    "temp_df = bin_df_eth.loc[bin_df_eth[\"datetime\"].isin(df_eth_48h[\"datetime\"])][\"open\"]\n",
    "df_eth_48h[\"open\"] = concat([Series([0]*(len(df_eth_48h)-len(temp_df))), temp_df]).values"
   ]
  },
  {
   "cell_type": "markdown",
   "id": "cdcb4d20",
   "metadata": {},
   "source": [
    "### Dataframe Ethereum per time distance"
   ]
  },
  {
   "cell_type": "code",
   "execution_count": 15,
   "id": "b276df2b",
   "metadata": {},
   "outputs": [],
   "source": [
    "df_bnb_now = df_bnb.groupby(by=\"datetime\")[\"forecast\"].mean().reset_index()\n",
    "df_bnb_1h = df_bnb.groupby(by=\"datetime\")[\"forecast\"].mean().reset_index()\n",
    "df_bnb_1h[\"datetime\"] += Timedelta(1, unit=\"H\")\n",
    "df_bnb_2h = df_bnb.groupby(by=\"datetime\")[\"forecast\"].mean().reset_index()\n",
    "df_bnb_2h[\"datetime\"] += Timedelta(2, unit=\"H\")\n",
    "df_bnb_3h = df_bnb.groupby(by=\"datetime\")[\"forecast\"].mean().reset_index()\n",
    "df_bnb_3h[\"datetime\"] += Timedelta(3, unit=\"H\")\n",
    "df_bnb_6h = df_bnb.groupby(by=\"datetime\")[\"forecast\"].mean().reset_index()\n",
    "df_bnb_6h[\"datetime\"] += Timedelta(6, unit=\"H\")\n",
    "df_bnb_12h = df_bnb.groupby(by=\"datetime\")[\"forecast\"].mean().reset_index()\n",
    "df_bnb_12h[\"datetime\"] += Timedelta(12, unit=\"H\")\n",
    "df_bnb_24h = df_bnb.groupby(by=\"datetime\")[\"forecast\"].mean().reset_index()\n",
    "df_bnb_24h[\"datetime\"] += Timedelta(1, unit=\"D\")\n",
    "df_bnb_48h = df_bnb.groupby(by=\"datetime\")[\"forecast\"].mean().reset_index()\n",
    "df_bnb_48h[\"datetime\"] += Timedelta(2, unit=\"D\")"
   ]
  },
  {
   "cell_type": "code",
   "execution_count": 16,
   "id": "ceb660b6",
   "metadata": {},
   "outputs": [
    {
     "name": "stderr",
     "output_type": "stream",
     "text": [
      "/tmp/ipykernel_10202/484217101.py:7: FutureWarning: The default dtype for empty Series will be 'object' instead of 'float64' in a future version. Specify a dtype explicitly to silence this warning.\n",
      "  df_bnb_12h[\"open\"] = concat([Series([0]*(len(df_bnb_12h)-len(temp_df))), temp_df]).values\n"
     ]
    }
   ],
   "source": [
    "df_bnb_now[\"open\"] = bin_df_bnb.loc[bin_df_bnb[\"datetime\"].isin(df_bnb_now[\"datetime\"])][\"open\"].values\n",
    "df_bnb_1h[\"open\"] = bin_df_bnb.loc[bin_df_bnb[\"datetime\"].isin(df_bnb_1h[\"datetime\"])][\"open\"].values\n",
    "df_bnb_2h[\"open\"] = bin_df_bnb.loc[bin_df_bnb[\"datetime\"].isin(df_bnb_2h[\"datetime\"])][\"open\"].values\n",
    "df_bnb_3h[\"open\"] = bin_df_bnb.loc[bin_df_bnb[\"datetime\"].isin(df_bnb_3h[\"datetime\"])][\"open\"].values\n",
    "df_bnb_6h[\"open\"] = bin_df_bnb.loc[bin_df_bnb[\"datetime\"].isin(df_bnb_6h[\"datetime\"])][\"open\"].values\n",
    "temp_df = bin_df_bnb.loc[bin_df_bnb[\"datetime\"].isin(df_bnb_12h[\"datetime\"])][\"open\"]\n",
    "df_bnb_12h[\"open\"] = concat([Series([0]*(len(df_bnb_12h)-len(temp_df))), temp_df]).values\n",
    "temp_df = bin_df_bnb.loc[bin_df_bnb[\"datetime\"].isin(df_bnb_24h[\"datetime\"])][\"open\"]\n",
    "df_bnb_24h[\"open\"] = concat([Series([0]*(len(df_bnb_24h)-len(temp_df))), temp_df]).values\n",
    "temp_df = bin_df_bnb.loc[bin_df_bnb[\"datetime\"].isin(df_bnb_48h[\"datetime\"])][\"open\"]\n",
    "df_bnb_48h[\"open\"] = concat([Series([0]*(len(df_bnb_48h)-len(temp_df))), temp_df]).values"
   ]
  },
  {
   "cell_type": "markdown",
   "id": "45e4f97b",
   "metadata": {},
   "source": [
    "### Correlation"
   ]
  },
  {
   "cell_type": "code",
   "execution_count": 20,
   "id": "2e041e93",
   "metadata": {},
   "outputs": [],
   "source": [
    "corr = {\n",
    "    \"btc_0h\":df_btc_now[[\"forecast\", \"open\"]].corr()[\"open\"][0],\n",
    "    \"btc_1h\":df_btc_1h[[\"forecast\", \"open\"]].corr()[\"open\"][0],\n",
    "    \"btc_2h\":df_btc_2h[[\"forecast\", \"open\"]].corr()[\"open\"][0],\n",
    "    \"btc_3h\":df_btc_3h[[\"forecast\", \"open\"]].corr()[\"open\"][0],\n",
    "    \"btc_6h\":df_btc_6h[[\"forecast\", \"open\"]].corr()[\"open\"][0],\n",
    "    \"btc_12h\":df_btc_12h[[\"forecast\", \"open\"]].corr()[\"open\"][0],\n",
    "    \"btc_1d\":df_btc_24h[[\"forecast\", \"open\"]].corr()[\"open\"][0],\n",
    "    \"btc_2d\":df_btc_48h[[\"forecast\", \"open\"]].corr()[\"open\"][0],\n",
    "    \"eth_0h\":df_eth_now[[\"forecast\", \"open\"]].corr()[\"open\"][0],\n",
    "    \"eth_1h\":df_eth_1h[[\"forecast\", \"open\"]].corr()[\"open\"][0],\n",
    "    \"eth_2h\":df_eth_2h[[\"forecast\", \"open\"]].corr()[\"open\"][0],\n",
    "    \"eth_3h\":df_eth_3h[[\"forecast\", \"open\"]].corr()[\"open\"][0],\n",
    "    \"eth_6h\":df_eth_6h[[\"forecast\", \"open\"]].corr()[\"open\"][0],\n",
    "    \"eth_12h\":df_eth_12h[[\"forecast\", \"open\"]].corr()[\"open\"][0],\n",
    "    \"eth_1d\":df_eth_24h[[\"forecast\", \"open\"]].corr()[\"open\"][0],\n",
    "    \"eth_2d\":df_eth_48h[[\"forecast\", \"open\"]].corr()[\"open\"][0],\n",
    "    \"bnb_0h\":df_bnb_now[[\"forecast\", \"open\"]].corr()[\"open\"][0],\n",
    "    \"bnb_1h\":df_bnb_1h[[\"forecast\", \"open\"]].corr()[\"open\"][0],\n",
    "    \"bnb_2h\":df_bnb_2h[[\"forecast\", \"open\"]].corr()[\"open\"][0],\n",
    "    \"bnb_3h\":df_bnb_3h[[\"forecast\", \"open\"]].corr()[\"open\"][0],\n",
    "    \"bnb_6h\":df_bnb_6h[[\"forecast\", \"open\"]].corr()[\"open\"][0],\n",
    "    \"bnb_12h\":df_bnb_12h[[\"forecast\", \"open\"]].corr()[\"open\"][0],\n",
    "    \"bnb_1d\":df_bnb_24h[[\"forecast\", \"open\"]].corr()[\"open\"][0],\n",
    "    \"bnb_2d\":df_bnb_48h[[\"forecast\", \"open\"]].corr()[\"open\"][0]\n",
    "}"
   ]
  },
  {
   "cell_type": "code",
   "execution_count": 21,
   "id": "5c7afbc2",
   "metadata": {},
   "outputs": [
    {
     "data": {
      "text/plain": [
       "{'btc_0h': 0.15172086456558656,\n",
       " 'btc_1h': -0.24873156700973148,\n",
       " 'btc_2h': -0.07687721401842587,\n",
       " 'btc_3h': -0.012092985357873634,\n",
       " 'btc_6h': -0.020408788315175244,\n",
       " 'btc_12h': -0.010054329553099364,\n",
       " 'btc_1d': 0.19561644879226803,\n",
       " 'btc_2d': nan,\n",
       " 'eth_0h': 0.10579726481084044,\n",
       " 'eth_1h': 0.028868850189259266,\n",
       " 'eth_2h': 0.03353439872681746,\n",
       " 'eth_3h': 0.014580478724054638,\n",
       " 'eth_6h': -0.7206644523878813,\n",
       " 'eth_12h': 0.5405765545427734,\n",
       " 'eth_1d': -0.4586160756517969,\n",
       " 'eth_2d': nan,\n",
       " 'bnb_0h': -0.3386812109396907,\n",
       " 'bnb_1h': 0.030194576528928225,\n",
       " 'bnb_2h': -0.18700647257649008,\n",
       " 'bnb_3h': -0.4633012073704392,\n",
       " 'bnb_6h': 0.01799341969234186,\n",
       " 'bnb_12h': 0.08783150528073844,\n",
       " 'bnb_1d': -0.6498469642033794,\n",
       " 'bnb_2d': nan}"
      ]
     },
     "execution_count": 21,
     "metadata": {},
     "output_type": "execute_result"
    }
   ],
   "source": [
    "corr"
   ]
  },
  {
   "cell_type": "markdown",
   "id": "e488691c",
   "metadata": {},
   "source": [
    "### Calculating the percentual forecast"
   ]
  },
  {
   "cell_type": "code",
   "execution_count": 22,
   "id": "f688f4c9",
   "metadata": {},
   "outputs": [],
   "source": [
    "forecast_price = lambda p, tv, t: p + tv if t else tv - p"
   ]
  },
  {
   "cell_type": "code",
   "execution_count": 25,
   "id": "25c9b6e9",
   "metadata": {},
   "outputs": [],
   "source": [
    "df_btc_now[\"price_pred\"] = [0] + [forecast_price(o*(abs(f)/1000), o, f>=0) for f, o in df_btc_now[[\"forecast\", \"open\"]].values][:-1]\n",
    "df_btc_1h[\"price_pred\"] = [0] + [forecast_price(o*(abs(f)/1000), o, f>=0) for f, o in df_btc_1h[[\"forecast\", \"open\"]].values][:-1]\n",
    "df_btc_2h[\"price_pred\"] = [0] + [forecast_price(o*(abs(f)/1000), o, f>=0) for f, o in df_btc_2h[[\"forecast\", \"open\"]].values][:-1]\n",
    "df_btc_3h[\"price_pred\"] = [0] + [forecast_price(o*(abs(f)/1000), o, f>=0) for f, o in df_btc_3h[[\"forecast\", \"open\"]].values][:-1]\n",
    "df_btc_6h[\"price_pred\"] = [0] + [forecast_price(o*(abs(f)/1000), o, f>=0) for f, o in df_btc_6h[[\"forecast\", \"open\"]].values][:-1]\n",
    "df_btc_12h[\"price_pred\"] = [0] + [forecast_price(o*(abs(f)/1000), o, f>=0) for f, o in df_btc_12h[[\"forecast\", \"open\"]].values][:-1]\n",
    "df_btc_24h[\"price_pred\"] = [0] + [forecast_price(o*(abs(f)/1000), o, f>=0) for f, o in df_btc_24h[[\"forecast\", \"open\"]].values][:-1]\n",
    "df_btc_48h[\"price_pred\"] = [0] + [forecast_price(o*(abs(f)/1000), o, f>=0) for f, o in df_btc_48h[[\"forecast\", \"open\"]].values][:-1]\n",
    "df_eth_now[\"price_pred\"] = [0] + [forecast_price(o*(abs(f)/1000), o, f>=0) for f, o in df_eth_now[[\"forecast\", \"open\"]].values][:-1]\n",
    "df_eth_1h[\"price_pred\"] = [0] + [forecast_price(o*(abs(f)/1000), o, f>=0) for f, o in df_eth_1h[[\"forecast\", \"open\"]].values][:-1]\n",
    "df_eth_2h[\"price_pred\"] = [0] + [forecast_price(o*(abs(f)/1000), o, f>=0) for f, o in df_eth_2h[[\"forecast\", \"open\"]].values][:-1]\n",
    "df_eth_3h[\"price_pred\"] = [0] + [forecast_price(o*(abs(f)/1000), o, f>=0) for f, o in df_eth_3h[[\"forecast\", \"open\"]].values][:-1]\n",
    "df_eth_6h[\"price_pred\"] = [0] + [forecast_price(o*(abs(f)/1000), o, f>=0) for f, o in df_eth_6h[[\"forecast\", \"open\"]].values][:-1]\n",
    "df_eth_12h[\"price_pred\"] = [0] + [forecast_price(o*(abs(f)/1000), o, f>=0) for f, o in df_eth_12h[[\"forecast\", \"open\"]].values][:-1]\n",
    "df_eth_24h[\"price_pred\"] = [0] + [forecast_price(o*(abs(f)/1000), o, f>=0) for f, o in df_eth_24h[[\"forecast\", \"open\"]].values][:-1]\n",
    "df_eth_48h[\"price_pred\"] = [0] + [forecast_price(o*(abs(f)/1000), o, f>=0) for f, o in df_eth_48h[[\"forecast\", \"open\"]].values][:-1]\n",
    "df_bnb_now[\"price_pred\"] = [0] + [forecast_price(o*(abs(f)/1000), o, f>=0) for f, o in df_bnb_now[[\"forecast\", \"open\"]].values][:-1]\n",
    "df_bnb_1h[\"price_pred\"] = [0] + [forecast_price(o*(abs(f)/1000), o, f>=0) for f, o in df_bnb_1h[[\"forecast\", \"open\"]].values][:-1]\n",
    "df_bnb_2h[\"price_pred\"] = [0] + [forecast_price(o*(abs(f)/1000), o, f>=0) for f, o in df_bnb_2h[[\"forecast\", \"open\"]].values][:-1]\n",
    "df_bnb_3h[\"price_pred\"] = [0] + [forecast_price(o*(abs(f)/1000), o, f>=0) for f, o in df_bnb_3h[[\"forecast\", \"open\"]].values][:-1]\n",
    "df_bnb_6h[\"price_pred\"] = [0] + [forecast_price(o*(abs(f)/1000), o, f>=0) for f, o in df_bnb_6h[[\"forecast\", \"open\"]].values][:-1]\n",
    "df_bnb_12h[\"price_pred\"] = [0] + [forecast_price(o*(abs(f)/1000), o, f>=0) for f, o in df_bnb_12h[[\"forecast\", \"open\"]].values][:-1]\n",
    "df_bnb_24h[\"price_pred\"] = [0] + [forecast_price(o*(abs(f)/1000), o, f>=0) for f, o in df_bnb_24h[[\"forecast\", \"open\"]].values][:-1]\n",
    "df_bnb_48h[\"price_pred\"] = [0] + [forecast_price(o*(abs(f)/1000), o, f>=0) for f, o in df_bnb_48h[[\"forecast\", \"open\"]].values][:-1]"
   ]
  },
  {
   "cell_type": "code",
   "execution_count": null,
   "id": "d032fe8e",
   "metadata": {},
   "outputs": [],
   "source": []
  },
  {
   "cell_type": "markdown",
   "id": "01072205",
   "metadata": {},
   "source": [
    "### Calculating precision, accuracy, recall and, f-1 score"
   ]
  },
  {
   "cell_type": "code",
   "execution_count": 43,
   "id": "e0d3d315",
   "metadata": {},
   "outputs": [],
   "source": [
    "def performance_check(forecast, price):\n",
    "    if price == 0 or forecast == 0:\n",
    "        return \"ND\"\n",
    "    elif forecast > 0 and price > 0:\n",
    "        return \"TP\"\n",
    "    elif forecast < 0 and price < 0:\n",
    "        return \"TN\"\n",
    "    elif forecast > 0 and price < 0:\n",
    "        return \"FP\"\n",
    "    elif forecast < 0 and price > 0:\n",
    "        return \"FN\"\n",
    "    else:\n",
    "        return \"ERR\""
   ]
  },
  {
   "cell_type": "code",
   "execution_count": 80,
   "id": "e61e1b53",
   "metadata": {},
   "outputs": [],
   "source": [
    "dfs_btc = {\n",
    "    \"df_btc_now\": df_btc_now, \n",
    "    \"df_btc_1h\": df_btc_1h, \n",
    "    \"df_btc_2h\": df_btc_2h, \n",
    "    \"df_btc_3h\": df_btc_3h, \n",
    "    \"df_btc_6h\": df_btc_6h, \n",
    "    \"df_btc_12h\": df_btc_12h, \n",
    "    \"df_btc_24h\": df_btc_24h \n",
    "#     \"df_btc_48h\": df_btc_48h\n",
    "}\n",
    "\n",
    "dfs_eth = {\n",
    "    \"df_eth_now\": df_eth_now, \n",
    "    \"df_eth_1h\": df_eth_1h, \n",
    "    \"df_eth_2h\": df_eth_2h, \n",
    "    \"df_eth_3h\": df_eth_3h, \n",
    "    \"df_eth_6h\": df_eth_6h, \n",
    "    \"df_eth_12h\": df_eth_12h, \n",
    "    \"df_eth_24h\": df_eth_24h\n",
    "#     \"df_eth_48h\": df_eth_48h\n",
    "}\n",
    "\n",
    "dfs_bnb = {\n",
    "    \"df_bnb_now\": df_bnb_now, \n",
    "    \"df_bnb_1h\": df_bnb_1h, \n",
    "    \"df_bnb_2h\": df_bnb_2h, \n",
    "    \"df_bnb_3h\": df_bnb_3h, \n",
    "    \"df_bnb_6h\": df_bnb_6h, \n",
    "    \"df_bnb_12h\": df_bnb_12h, \n",
    "    \"df_bnb_24h\": df_bnb_24h\n",
    "#     \"df_bnb_48h\": df_bnb_48h\n",
    "}\n",
    "dfs = [dfs_btc, dfs_eth, dfs_bnb]"
   ]
  },
  {
   "cell_type": "code",
   "execution_count": 81,
   "id": "384094fa",
   "metadata": {},
   "outputs": [],
   "source": [
    "performance = {}\n",
    "for each_df in dfs:\n",
    "    for df_name, df in each_df.items():\n",
    "        results = [\"ND\"]\n",
    "        performance[df_name] = {}\n",
    "        for step in range(1, len(df)):\n",
    "            results.append(performance_check(df[\"forecast\"][step-1], df[\"open\"][step] - df[\"open\"][step-1]))\n",
    "        df[\"performance\"] = results\n",
    "        temp = defaultdict(lambda: 0, df[\"performance\"].value_counts().to_dict())\n",
    "        performance[df_name] = {\n",
    "            \"accuracy\" : temp[\"TP\"] + temp[\"TN\"] / sum(temp.values()),\n",
    "            \"preciosion\": temp[\"TP\"] / (temp[\"TP\"] + temp[\"FP\"]),\n",
    "            \"recall\": temp[\"TP\"] / (temp[\"TP\"] + temp[\"FN\"]),\n",
    "            \"f1-score\": temp[\"TP\"] / (temp[\"TP\"] + 1/2 * (temp[\"FP\"] + temp[\"FN\"]))\n",
    "        }"
   ]
  },
  {
   "cell_type": "code",
   "execution_count": 118,
   "id": "888fb2d9",
   "metadata": {},
   "outputs": [
    {
     "data": {
      "text/html": [
       "<div>\n",
       "<style scoped>\n",
       "    .dataframe tbody tr th:only-of-type {\n",
       "        vertical-align: middle;\n",
       "    }\n",
       "\n",
       "    .dataframe tbody tr th {\n",
       "        vertical-align: top;\n",
       "    }\n",
       "\n",
       "    .dataframe thead th {\n",
       "        text-align: right;\n",
       "    }\n",
       "</style>\n",
       "<table border=\"1\" class=\"dataframe\">\n",
       "  <thead>\n",
       "    <tr style=\"text-align: right;\">\n",
       "      <th></th>\n",
       "      <th>datetime</th>\n",
       "      <th>forecast</th>\n",
       "      <th>open</th>\n",
       "      <th>price_pred</th>\n",
       "      <th>performance</th>\n",
       "    </tr>\n",
       "  </thead>\n",
       "  <tbody>\n",
       "    <tr>\n",
       "      <th>0</th>\n",
       "      <td>2022-08-23 09:00:00</td>\n",
       "      <td>7.212758</td>\n",
       "      <td>0.0</td>\n",
       "      <td>0.000000</td>\n",
       "      <td>ND</td>\n",
       "    </tr>\n",
       "    <tr>\n",
       "      <th>1</th>\n",
       "      <td>2022-08-23 10:00:00</td>\n",
       "      <td>6.589048</td>\n",
       "      <td>0.0</td>\n",
       "      <td>0.000000</td>\n",
       "      <td>ND</td>\n",
       "    </tr>\n",
       "    <tr>\n",
       "      <th>2</th>\n",
       "      <td>2022-08-23 11:00:00</td>\n",
       "      <td>15.819305</td>\n",
       "      <td>0.0</td>\n",
       "      <td>0.000000</td>\n",
       "      <td>ND</td>\n",
       "    </tr>\n",
       "    <tr>\n",
       "      <th>3</th>\n",
       "      <td>2022-08-23 12:00:00</td>\n",
       "      <td>40.261843</td>\n",
       "      <td>0.0</td>\n",
       "      <td>0.000000</td>\n",
       "      <td>ND</td>\n",
       "    </tr>\n",
       "    <tr>\n",
       "      <th>4</th>\n",
       "      <td>2022-08-23 13:00:00</td>\n",
       "      <td>9.035561</td>\n",
       "      <td>0.0</td>\n",
       "      <td>0.000000</td>\n",
       "      <td>ND</td>\n",
       "    </tr>\n",
       "    <tr>\n",
       "      <th>5</th>\n",
       "      <td>2022-08-23 14:00:00</td>\n",
       "      <td>8.009561</td>\n",
       "      <td>0.0</td>\n",
       "      <td>0.000000</td>\n",
       "      <td>ND</td>\n",
       "    </tr>\n",
       "    <tr>\n",
       "      <th>6</th>\n",
       "      <td>2022-08-23 15:00:00</td>\n",
       "      <td>1.949842</td>\n",
       "      <td>298.7</td>\n",
       "      <td>0.000000</td>\n",
       "      <td>TP</td>\n",
       "    </tr>\n",
       "    <tr>\n",
       "      <th>7</th>\n",
       "      <td>2022-08-23 16:00:00</td>\n",
       "      <td>0.810513</td>\n",
       "      <td>296.5</td>\n",
       "      <td>299.282418</td>\n",
       "      <td>FP</td>\n",
       "    </tr>\n",
       "    <tr>\n",
       "      <th>8</th>\n",
       "      <td>2022-08-23 17:00:00</td>\n",
       "      <td>0.279415</td>\n",
       "      <td>298.3</td>\n",
       "      <td>296.740317</td>\n",
       "      <td>TP</td>\n",
       "    </tr>\n",
       "    <tr>\n",
       "      <th>9</th>\n",
       "      <td>2022-08-23 18:00:00</td>\n",
       "      <td>0.672027</td>\n",
       "      <td>298.1</td>\n",
       "      <td>298.383350</td>\n",
       "      <td>FP</td>\n",
       "    </tr>\n",
       "    <tr>\n",
       "      <th>10</th>\n",
       "      <td>2022-08-23 19:00:00</td>\n",
       "      <td>2.947457</td>\n",
       "      <td>298.2</td>\n",
       "      <td>298.300331</td>\n",
       "      <td>TP</td>\n",
       "    </tr>\n",
       "    <tr>\n",
       "      <th>11</th>\n",
       "      <td>2022-08-23 20:00:00</td>\n",
       "      <td>0.230815</td>\n",
       "      <td>297.2</td>\n",
       "      <td>299.078932</td>\n",
       "      <td>FP</td>\n",
       "    </tr>\n",
       "    <tr>\n",
       "      <th>12</th>\n",
       "      <td>2022-08-23 21:00:00</td>\n",
       "      <td>0.151538</td>\n",
       "      <td>296.9</td>\n",
       "      <td>297.268598</td>\n",
       "      <td>FP</td>\n",
       "    </tr>\n",
       "    <tr>\n",
       "      <th>13</th>\n",
       "      <td>2022-08-23 22:00:00</td>\n",
       "      <td>0.316938</td>\n",
       "      <td>298.4</td>\n",
       "      <td>296.944992</td>\n",
       "      <td>TP</td>\n",
       "    </tr>\n",
       "    <tr>\n",
       "      <th>14</th>\n",
       "      <td>2022-08-23 23:00:00</td>\n",
       "      <td>1.674044</td>\n",
       "      <td>298.4</td>\n",
       "      <td>298.494574</td>\n",
       "      <td>ND</td>\n",
       "    </tr>\n",
       "    <tr>\n",
       "      <th>15</th>\n",
       "      <td>2022-08-24 00:00:00</td>\n",
       "      <td>5.123852</td>\n",
       "      <td>298.0</td>\n",
       "      <td>298.899535</td>\n",
       "      <td>FP</td>\n",
       "    </tr>\n",
       "  </tbody>\n",
       "</table>\n",
       "</div>"
      ],
      "text/plain": [
       "              datetime   forecast   open  price_pred performance\n",
       "0  2022-08-23 09:00:00   7.212758    0.0    0.000000          ND\n",
       "1  2022-08-23 10:00:00   6.589048    0.0    0.000000          ND\n",
       "2  2022-08-23 11:00:00  15.819305    0.0    0.000000          ND\n",
       "3  2022-08-23 12:00:00  40.261843    0.0    0.000000          ND\n",
       "4  2022-08-23 13:00:00   9.035561    0.0    0.000000          ND\n",
       "5  2022-08-23 14:00:00   8.009561    0.0    0.000000          ND\n",
       "6  2022-08-23 15:00:00   1.949842  298.7    0.000000          TP\n",
       "7  2022-08-23 16:00:00   0.810513  296.5  299.282418          FP\n",
       "8  2022-08-23 17:00:00   0.279415  298.3  296.740317          TP\n",
       "9  2022-08-23 18:00:00   0.672027  298.1  298.383350          FP\n",
       "10 2022-08-23 19:00:00   2.947457  298.2  298.300331          TP\n",
       "11 2022-08-23 20:00:00   0.230815  297.2  299.078932          FP\n",
       "12 2022-08-23 21:00:00   0.151538  296.9  297.268598          FP\n",
       "13 2022-08-23 22:00:00   0.316938  298.4  296.944992          TP\n",
       "14 2022-08-23 23:00:00   1.674044  298.4  298.494574          ND\n",
       "15 2022-08-24 00:00:00   5.123852  298.0  298.899535          FP"
      ]
     },
     "execution_count": 118,
     "metadata": {},
     "output_type": "execute_result"
    }
   ],
   "source": [
    "df_bnb_24h"
   ]
  },
  {
   "cell_type": "code",
   "execution_count": 93,
   "id": "10a71ea0",
   "metadata": {},
   "outputs": [
    {
     "data": {
      "text/plain": [
       "Text(0, 0.5, 'precision')"
      ]
     },
     "execution_count": 93,
     "metadata": {},
     "output_type": "execute_result"
    },
    {
     "data": {
      "image/png": "[encoded data removed]",
      "text/plain": [
       "<Figure size 432x288 with 1 Axes>"
      ]
     },
     "metadata": {
      "needs_background": "light"
     },
     "output_type": "display_data"
    }
   ],
   "source": [
    "from matplotlib import pyplot\n",
    "\n",
    "# btc\n",
    "pyplot.plot([\"1h\", \"2h\", \"3h\", \"6h\", \"12h\", \"24h\", \"48h\"],\n",
    "            [value[\"accuracy\"] for key, value in performance.items() if \"btc\" in key],\n",
    "            label=\"btc\"\n",
    "           )\n",
    "# eth\n",
    "pyplot.plot([\"1h\", \"2h\", \"3h\", \"6h\", \"12h\", \"24h\", \"48h\"],\n",
    "            [value[\"accuracy\"] for key, value in performance.items() if \"eth\" in key],\n",
    "            label=\"eth\"\n",
    "           )\n",
    "# bnb\n",
    "pyplot.plot([\"1h\", \"2h\", \"3h\", \"6h\", \"12h\", \"24h\", \"48h\"],\n",
    "            [value[\"accuracy\"] for key, value in performance.items() if \"bnb\" in key],\n",
    "            label=\"bnb\"\n",
    "           )\n",
    "\n",
    "pyplot.xlabel(\"Time Distance\")\n",
    "pyplot.ylabel(\"accuracy\")"
   ]
  },
  {
   "cell_type": "code",
   "execution_count": 94,
   "id": "8bf55438",
   "metadata": {},
   "outputs": [
    {
     "data": {
      "text/plain": [
       "Text(0, 0.5, 'precision')"
      ]
     },
     "execution_count": 94,
     "metadata": {},
     "output_type": "execute_result"
    },
    {
     "data": {
      "image/png": "[encoded data removed]",
      "text/plain": [
       "<Figure size 432x288 with 1 Axes>"
      ]
     },
     "metadata": {
      "needs_background": "light"
     },
     "output_type": "display_data"
    }
   ],
   "source": [
    "from matplotlib import pyplot\n",
    "\n",
    "# btc\n",
    "pyplot.plot([\"1h\", \"2h\", \"3h\", \"6h\", \"12h\", \"24h\", \"48h\"],\n",
    "            [value[\"preciosion\"] for key, value in performance.items() if \"btc\" in key],\n",
    "            label=\"btc\"\n",
    "           )\n",
    "# eth\n",
    "pyplot.plot([\"1h\", \"2h\", \"3h\", \"6h\", \"12h\", \"24h\", \"48h\"],\n",
    "            [value[\"preciosion\"] for key, value in performance.items() if \"eth\" in key],\n",
    "            label=\"eth\"\n",
    "           )\n",
    "# bnb\n",
    "pyplot.plot([\"1h\", \"2h\", \"3h\", \"6h\", \"12h\", \"24h\", \"48h\"],\n",
    "            [value[\"preciosion\"] for key, value in performance.items() if \"bnb\" in key],\n",
    "            label=\"bnb\"\n",
    "           )\n",
    "\n",
    "pyplot.xlabel(\"Time Distance\")\n",
    "pyplot.ylabel(\"precision\")"
   ]
  },
  {
   "cell_type": "code",
   "execution_count": 95,
   "id": "9de58365",
   "metadata": {},
   "outputs": [
    {
     "data": {
      "text/plain": [
       "Text(0, 0.5, 'precision')"
      ]
     },
     "execution_count": 95,
     "metadata": {},
     "output_type": "execute_result"
    },
    {
     "data": {
      "image/png": "[encoded data removed]",
      "text/plain": [
       "<Figure size 432x288 with 1 Axes>"
      ]
     },
     "metadata": {
      "needs_background": "light"
     },
     "output_type": "display_data"
    }
   ],
   "source": [
    "from matplotlib import pyplot\n",
    "\n",
    "# btc\n",
    "pyplot.plot([\"1h\", \"2h\", \"3h\", \"6h\", \"12h\", \"24h\", \"48h\"],\n",
    "            [value[\"recall\"] for key, value in performance.items() if \"btc\" in key],\n",
    "            label=\"btc\"\n",
    "           )\n",
    "# eth\n",
    "pyplot.plot([\"1h\", \"2h\", \"3h\", \"6h\", \"12h\", \"24h\", \"48h\"],\n",
    "            [value[\"recall\"] for key, value in performance.items() if \"eth\" in key],\n",
    "            label=\"eth\"\n",
    "           )\n",
    "# bnb\n",
    "pyplot.plot([\"1h\", \"2h\", \"3h\", \"6h\", \"12h\", \"24h\", \"48h\"],\n",
    "            [value[\"recall\"] for key, value in performance.items() if \"bnb\" in key],\n",
    "            label=\"bnb\"\n",
    "           )\n",
    "\n",
    "pyplot.xlabel(\"Time Distance\")\n",
    "pyplot.ylabel(\"recall\")"
   ]
  },
  {
   "cell_type": "code",
   "execution_count": 96,
   "id": "6513a9f4",
   "metadata": {},
   "outputs": [
    {
     "data": {
      "text/plain": [
       "Text(0, 0.5, 'precision')"
      ]
     },
     "execution_count": 96,
     "metadata": {},
     "output_type": "execute_result"
    },
    {
     "data": {
      "image/png": "[encoded data removed]",
      "text/plain": [
       "<Figure size 432x288 with 1 Axes>"
      ]
     },
     "metadata": {
      "needs_background": "light"
     },
     "output_type": "display_data"
    }
   ],
   "source": [
    "from matplotlib import pyplot\n",
    "\n",
    "# btc\n",
    "pyplot.plot([\"1h\", \"2h\", \"3h\", \"6h\", \"12h\", \"24h\", \"48h\"],\n",
    "            [value[\"f1-score\"] for key, value in performance.items() if \"btc\" in key],\n",
    "            label=\"btc\"\n",
    "           )\n",
    "# eth\n",
    "pyplot.plot([\"1h\", \"2h\", \"3h\", \"6h\", \"12h\", \"24h\", \"48h\"],\n",
    "            [value[\"f1-score\"] for key, value in performance.items() if \"eth\" in key],\n",
    "            label=\"eth\"\n",
    "           )\n",
    "# bnb\n",
    "pyplot.plot([\"1h\", \"2h\", \"3h\", \"6h\", \"12h\", \"24h\", \"48h\"],\n",
    "            [value[\"f1-score\"] for key, value in performance.items() if \"bnb\" in key],\n",
    "            label=\"bnb\"\n",
    "           )\n",
    "\n",
    "pyplot.xlabel(\"Time Distance\")\n",
    "pyplot.ylabel(\"f1-score\")"
   ]
  },
  {
   "cell_type": "code",
   "execution_count": 85,
   "id": "28265b50",
   "metadata": {},
   "outputs": [
    {
     "data": {
      "text/plain": [
       "[0.5,\n",
       " 0.5714285714285714,\n",
       " 0.5714285714285714,\n",
       " 0.5714285714285714,\n",
       " 0.7142857142857143,\n",
       " 0.5714285714285714,\n",
       " 0.4]"
      ]
     },
     "execution_count": 85,
     "metadata": {},
     "output_type": "execute_result"
    }
   ],
   "source": [
    "[value[\"preciosion\"] for key, value in performance.items() if \"btc\" in key]"
   ]
  }
 ],
 "metadata": {
  "kernelspec": {
   "display_name": "Python 3 (ipykernel)",
   "language": "python",
   "name": "python3"
  },
  "language_info": {
   "codemirror_mode": {
    "name": "ipython",
    "version": 3
   },
   "file_extension": ".py",
   "mimetype": "text/x-python",
   "name": "python",
   "nbconvert_exporter": "python",
   "pygments_lexer": "ipython3",
   "version": "3.9.13"
  }
 },
 "nbformat": 4,
 "nbformat_minor": 5
}
